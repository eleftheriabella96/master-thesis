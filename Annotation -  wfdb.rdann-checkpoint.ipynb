{
 "cells": [
  {
   "cell_type": "markdown",
   "id": "6caa79f7",
   "metadata": {},
   "source": [
    "# Extract RR intervals from ECG (or at least try)"
   ]
  },
  {
   "cell_type": "markdown",
   "id": "ab0b9ddc",
   "metadata": {},
   "source": [
    "## Import libraries"
   ]
  },
  {
   "cell_type": "code",
   "execution_count": 1,
   "id": "a8b270b1",
   "metadata": {},
   "outputs": [],
   "source": [
    "#from ecgdetectors import Detectors\n",
    "from IPython.display import display\n",
    "import matplotlib.pyplot as plt\n",
    "from scipy.interpolate import interp1d\n",
    "from statistics import median\n",
    "import scipy.stats\n",
    "#import pyhrv.time_domain as td\n",
    "import numpy as np\n",
    "import pandas as pd \n",
    "import os\n",
    "import shutil\n",
    "import wfdb\n",
    "import csv"
   ]
  },
  {
   "cell_type": "code",
   "execution_count": 2,
   "id": "92a3e81c",
   "metadata": {},
   "outputs": [],
   "source": [
    "#from pyinform.shannon import entropy\n",
    "import matplotlib.pyplot as plt\n",
    "#import pyhrv.time_domain as td\n",
    "from random import randrange\n",
    "from random import sample\n",
    "import pandas as pd\n",
    "import numpy as np \n",
    "import itertools\n",
    "#import pyinform\n",
    "import random\n",
    "import sys\n",
    "import ctypes\n"
   ]
  },
  {
   "cell_type": "markdown",
   "id": "a4c4577e",
   "metadata": {},
   "source": [
    "## Variables - arrays"
   ]
  },
  {
   "cell_type": "code",
   "execution_count": 3,
   "id": "f2db410e",
   "metadata": {},
   "outputs": [],
   "source": [
    "tags = []\n",
    "signal = []\n",
    "field = []\n",
    "countlines = 0"
   ]
  },
  {
   "cell_type": "markdown",
   "id": "f317a80d",
   "metadata": {},
   "source": [
    "## Read records with rdann"
   ]
  },
  {
   "cell_type": "code",
   "execution_count": 4,
   "id": "154309d0",
   "metadata": {},
   "outputs": [
    {
     "ename": "FileNotFoundError",
     "evalue": "[Errno 2] No such file or directory: 'C:/Users/bellel/Downloads/code from all libscongestive-heart-failure-rr-interval-database-1.0.0/RECORDS.txt'",
     "output_type": "error",
     "traceback": [
      "\u001b[1;31m---------------------------------------------------------------------------\u001b[0m",
      "\u001b[1;31mFileNotFoundError\u001b[0m                         Traceback (most recent call last)",
      "Cell \u001b[1;32mIn[4], line 3\u001b[0m\n\u001b[0;32m      1\u001b[0m \u001b[38;5;66;03m#filepath = \"C:/Users/bellel/Downloads/code from all libs/long-term-af-database-1.0.0/RECORDS.txt\"\u001b[39;00m\n\u001b[0;32m      2\u001b[0m filepath \u001b[38;5;241m=\u001b[39m \u001b[38;5;124m\"\u001b[39m\u001b[38;5;124mC:/Users/bellel/Downloads/code from all libscongestive-heart-failure-rr-interval-database-1.0.0/RECORDS.txt\u001b[39m\u001b[38;5;124m\"\u001b[39m\n\u001b[1;32m----> 3\u001b[0m \u001b[38;5;28;01mwith\u001b[39;00m \u001b[38;5;28;43mopen\u001b[39;49m\u001b[43m(\u001b[49m\u001b[43mfilepath\u001b[49m\u001b[43m)\u001b[49m \u001b[38;5;28;01mas\u001b[39;00m fp:\n\u001b[0;32m      4\u001b[0m         \u001b[38;5;28;01mfor\u001b[39;00m line \u001b[38;5;129;01min\u001b[39;00m fp:\n\u001b[0;32m      5\u001b[0m                 countlines \u001b[38;5;241m+\u001b[39m\u001b[38;5;241m=\u001b[39m \u001b[38;5;241m1\u001b[39m\n",
      "File \u001b[1;32m~\\AppData\\Local\\anaconda3\\lib\\site-packages\\IPython\\core\\interactiveshell.py:282\u001b[0m, in \u001b[0;36m_modified_open\u001b[1;34m(file, *args, **kwargs)\u001b[0m\n\u001b[0;32m    275\u001b[0m \u001b[38;5;28;01mif\u001b[39;00m file \u001b[38;5;129;01min\u001b[39;00m {\u001b[38;5;241m0\u001b[39m, \u001b[38;5;241m1\u001b[39m, \u001b[38;5;241m2\u001b[39m}:\n\u001b[0;32m    276\u001b[0m     \u001b[38;5;28;01mraise\u001b[39;00m \u001b[38;5;167;01mValueError\u001b[39;00m(\n\u001b[0;32m    277\u001b[0m         \u001b[38;5;124mf\u001b[39m\u001b[38;5;124m\"\u001b[39m\u001b[38;5;124mIPython won\u001b[39m\u001b[38;5;124m'\u001b[39m\u001b[38;5;124mt let you open fd=\u001b[39m\u001b[38;5;132;01m{\u001b[39;00mfile\u001b[38;5;132;01m}\u001b[39;00m\u001b[38;5;124m by default \u001b[39m\u001b[38;5;124m\"\u001b[39m\n\u001b[0;32m    278\u001b[0m         \u001b[38;5;124m\"\u001b[39m\u001b[38;5;124mas it is likely to crash IPython. If you know what you are doing, \u001b[39m\u001b[38;5;124m\"\u001b[39m\n\u001b[0;32m    279\u001b[0m         \u001b[38;5;124m\"\u001b[39m\u001b[38;5;124myou can use builtins\u001b[39m\u001b[38;5;124m'\u001b[39m\u001b[38;5;124m open.\u001b[39m\u001b[38;5;124m\"\u001b[39m\n\u001b[0;32m    280\u001b[0m     )\n\u001b[1;32m--> 282\u001b[0m \u001b[38;5;28;01mreturn\u001b[39;00m io_open(file, \u001b[38;5;241m*\u001b[39margs, \u001b[38;5;241m*\u001b[39m\u001b[38;5;241m*\u001b[39mkwargs)\n",
      "\u001b[1;31mFileNotFoundError\u001b[0m: [Errno 2] No such file or directory: 'C:/Users/bellel/Downloads/code from all libscongestive-heart-failure-rr-interval-database-1.0.0/RECORDS.txt'"
     ]
    }
   ],
   "source": [
    "#filepath = \"C:/Users/bellel/Downloads/code from all libs/long-term-af-database-1.0.0/RECORDS.txt\"\n",
    "filepath = \"C:/Users/bellel/Downloads/code from all libscongestive-heart-failure-rr-interval-database-1.0.0/RECORDS.txt\"\n",
    "with open(filepath) as fp:\n",
    "        for line in fp:\n",
    "                countlines += 1\n",
    "                filename=\"C:/Users/bellel/Downloads/code from all libscongestive-heart-failure-rr-interval-database-1.0.0/\"+ line.rstrip()\n",
    "                print(filename)\n",
    "                #fileNumber = filename[-4:]\n",
    "                #print(fileNumber)\n",
    "                #modifiedFilename = filename[:-4] + \"ctu_fetal_\" + fileNumber\n",
    "                #print(modifiedFilename)\n",
    "                final_list = []\n",
    "                f = open(filename + \".hea\", \"r\")\n",
    "                #f = open(modifiedFilename + \".txt\", \"r\")\n",
    "                beats = f.readlines()\n",
    "                print(beats)\n",
    "                \n",
    "                RR_differences = []\n",
    "                for i in range(1, len(beats)):\n",
    "                    RR_differences.append(float(beats[i])-float(beats[i-1])/250)\n",
    "                    #RR_differences.append(float(beats[i][:-2])-float(beats[i-1][:-2])/250)\n",
    "                    #print(beats[i])\n",
    "    \n",
    "                #Results are the time differences in seconds between successive heart beats        \n",
    "                \n",
    "                plt.figure(countlines)\n",
    "                plt.title('Record: ' + line.rstrip())\n",
    "                plt.xlabel('Duration: (pulses)')\n",
    "                plt.ylabel('Value: BPM or ms')\n",
    "                plt.plot(RR_differences)\n",
    "                plt.savefig(line.rstrip() + '.png')\n",
    "                \n",
    "                f = open(\"RR_differences\" + line.rstrip() + \".txt\", \"w\")\n",
    "                \n",
    "                for i in range(0, len(RR_differences)):\n",
    "                    if RR_differences[i] != 0:\n",
    "                        RR_differences[i] = 60000/RR_differences[i]\n",
    "                        #f.write(str(round(RR_differences[i], 3))+ \"\\n\")\n",
    "                        #print(round(RR_differences[i], 3))\n",
    "                        f.write(str(round(RR_differences[i], 3)) + \"\\n\")\n",
    "                    "
   ]
  },
  {
   "cell_type": "code",
   "execution_count": 5,
   "id": "1c91277d",
   "metadata": {},
   "outputs": [
    {
     "ename": "FileNotFoundError",
     "evalue": "[Errno 2] No such file or directory: '201.atr'",
     "output_type": "error",
     "traceback": [
      "\u001b[1;31m---------------------------------------------------------------------------\u001b[0m",
      "\u001b[1;31mFileNotFoundError\u001b[0m                         Traceback (most recent call last)",
      "Cell \u001b[1;32mIn[5], line 8\u001b[0m\n\u001b[0;32m      6\u001b[0m filename\u001b[38;5;241m=\u001b[39m\u001b[38;5;124m\"\u001b[39m\u001b[38;5;124mC:/Users/bellel/Downloads/code from all libs/congestive-heart-failure-rr-interval-database-1.0.0/\u001b[39m\u001b[38;5;124m\"\u001b[39m\u001b[38;5;241m+\u001b[39m line\u001b[38;5;241m.\u001b[39mrstrip()\n\u001b[0;32m      7\u001b[0m \u001b[38;5;66;03m#signal, field = wfdb.rdsamp(filename, sampfrom=0, sampto=None, channels=None, pn_dir=None, channel_names=None, warn_empty=False, return_res=64)\u001b[39;00m\n\u001b[1;32m----> 8\u001b[0m annotation \u001b[38;5;241m=\u001b[39m \u001b[43mwfdb\u001b[49m\u001b[38;5;241;43m.\u001b[39;49m\u001b[43mrdann\u001b[49m\u001b[43m(\u001b[49m\u001b[43mline\u001b[49m\u001b[38;5;241;43m.\u001b[39;49m\u001b[43mrstrip\u001b[49m\u001b[43m(\u001b[49m\u001b[43m)\u001b[49m\u001b[43m \u001b[49m\u001b[43m,\u001b[49m\u001b[43m \u001b[49m\u001b[38;5;124;43m'\u001b[39;49m\u001b[38;5;124;43matr\u001b[39;49m\u001b[38;5;124;43m'\u001b[39;49m\u001b[43m)\u001b[49m\n\u001b[0;32m     10\u001b[0m sample \u001b[38;5;241m=\u001b[39m annotation\u001b[38;5;241m.\u001b[39m\u001b[38;5;18m__dict__\u001b[39m[\u001b[38;5;124m'\u001b[39m\u001b[38;5;124msample\u001b[39m\u001b[38;5;124m'\u001b[39m]\n\u001b[0;32m     11\u001b[0m fs \u001b[38;5;241m=\u001b[39m np\u001b[38;5;241m.\u001b[39marray(annotation\u001b[38;5;241m.\u001b[39m\u001b[38;5;18m__dict__\u001b[39m[\u001b[38;5;124m'\u001b[39m\u001b[38;5;124mfs\u001b[39m\u001b[38;5;124m'\u001b[39m])\n",
      "File \u001b[1;32m~\\AppData\\Local\\anaconda3\\lib\\site-packages\\wfdb\\io\\annotation.py:1950\u001b[0m, in \u001b[0;36mrdann\u001b[1;34m(record_name, extension, sampfrom, sampto, shift_samps, pn_dir, return_label_elements, summarize_labels)\u001b[0m\n\u001b[0;32m   1945\u001b[0m return_label_elements \u001b[38;5;241m=\u001b[39m check_read_inputs(\n\u001b[0;32m   1946\u001b[0m     sampfrom, sampto, return_label_elements\n\u001b[0;32m   1947\u001b[0m )\n\u001b[0;32m   1949\u001b[0m \u001b[38;5;66;03m# Read the file in byte pairs\u001b[39;00m\n\u001b[1;32m-> 1950\u001b[0m filebytes \u001b[38;5;241m=\u001b[39m \u001b[43mload_byte_pairs\u001b[49m\u001b[43m(\u001b[49m\u001b[43mrecord_name\u001b[49m\u001b[43m,\u001b[49m\u001b[43m \u001b[49m\u001b[43mextension\u001b[49m\u001b[43m,\u001b[49m\u001b[43m \u001b[49m\u001b[43mpn_dir\u001b[49m\u001b[43m)\u001b[49m\n\u001b[0;32m   1952\u001b[0m \u001b[38;5;66;03m# Get WFDB annotation fields from the file bytes\u001b[39;00m\n\u001b[0;32m   1953\u001b[0m (sample, label_store, subtype, chan, num, aux_note) \u001b[38;5;241m=\u001b[39m proc_ann_bytes(\n\u001b[0;32m   1954\u001b[0m     filebytes, sampto\n\u001b[0;32m   1955\u001b[0m )\n",
      "File \u001b[1;32m~\\AppData\\Local\\anaconda3\\lib\\site-packages\\wfdb\\io\\annotation.py:2091\u001b[0m, in \u001b[0;36mload_byte_pairs\u001b[1;34m(record_name, extension, pn_dir)\u001b[0m\n\u001b[0;32m   2089\u001b[0m \u001b[38;5;66;03m# local file\u001b[39;00m\n\u001b[0;32m   2090\u001b[0m \u001b[38;5;28;01mif\u001b[39;00m pn_dir \u001b[38;5;129;01mis\u001b[39;00m \u001b[38;5;28;01mNone\u001b[39;00m:\n\u001b[1;32m-> 2091\u001b[0m     \u001b[38;5;28;01mwith\u001b[39;00m \u001b[38;5;28;43mopen\u001b[39;49m\u001b[43m(\u001b[49m\u001b[43mrecord_name\u001b[49m\u001b[43m \u001b[49m\u001b[38;5;241;43m+\u001b[39;49m\u001b[43m \u001b[49m\u001b[38;5;124;43m\"\u001b[39;49m\u001b[38;5;124;43m.\u001b[39;49m\u001b[38;5;124;43m\"\u001b[39;49m\u001b[43m \u001b[49m\u001b[38;5;241;43m+\u001b[39;49m\u001b[43m \u001b[49m\u001b[43mextension\u001b[49m\u001b[43m,\u001b[49m\u001b[43m \u001b[49m\u001b[38;5;124;43m\"\u001b[39;49m\u001b[38;5;124;43mrb\u001b[39;49m\u001b[38;5;124;43m\"\u001b[39;49m\u001b[43m)\u001b[49m \u001b[38;5;28;01mas\u001b[39;00m f:\n\u001b[0;32m   2092\u001b[0m         filebytes \u001b[38;5;241m=\u001b[39m np\u001b[38;5;241m.\u001b[39mfromfile(f, \u001b[38;5;124m\"\u001b[39m\u001b[38;5;124m<u1\u001b[39m\u001b[38;5;124m\"\u001b[39m)\u001b[38;5;241m.\u001b[39mreshape([\u001b[38;5;241m-\u001b[39m\u001b[38;5;241m1\u001b[39m, \u001b[38;5;241m2\u001b[39m])\n\u001b[0;32m   2093\u001b[0m \u001b[38;5;66;03m# PhysioNet file\u001b[39;00m\n\u001b[0;32m   2094\u001b[0m \u001b[38;5;28;01melse\u001b[39;00m:\n",
      "\u001b[1;31mFileNotFoundError\u001b[0m: [Errno 2] No such file or directory: '201.atr'"
     ]
    }
   ],
   "source": [
    "filepath = \"C:/Users/bellel/Downloads/code from all libs/congestive-heart-failure-rr-interval-database-1.0.0/RECORDS.txt\"\n",
    "with open(filepath) as fp:\n",
    "        for line in fp:\n",
    "                countlines += 1\n",
    "                #print(line.rstrip())\n",
    "                filename=\"C:/Users/bellel/Downloads/code from all libs/congestive-heart-failure-rr-interval-database-1.0.0/\"+ line.rstrip()\n",
    "                #signal, field = wfdb.rdsamp(filename, sampfrom=0, sampto=None, channels=None, pn_dir=None, channel_names=None, warn_empty=False, return_res=64)\n",
    "                annotation = wfdb.rdann(line.rstrip() , 'atr')\n",
    "                \n",
    "                sample = annotation.__dict__['sample']\n",
    "                fs = np.array(annotation.__dict__['fs'])\n",
    "                #print(sample)  \n",
    "                \n",
    "                RR_differences = []\n",
    "                for i in range(1, len(sample)):\n",
    "                    RR_differences.append((sample[i]-sample[i-1])/fs)\n",
    "                    \n",
    "                #print(RR_differences)\n",
    "                #print('~')\n",
    "                plt.figure(countlines)\n",
    "                plt.plot(RR_differences)\n",
    "                plt.savefig(line.rstrip() + '.png')\n",
    "                \n",
    "                f = open(\"RR_differences\" + line.rstrip() + \".txt\", \"w\")\n",
    "                \n",
    "                for i in range(0, len(RR_differences)):\n",
    "                    if RR_differences[i] != 0:\n",
    "                        RR_differences[i] = 60000/RR_differences[i]\n",
    "                        #f.write(str(round(RR_differences[i], 3))+ \"\\n\")\n",
    "                        #print(round(RR_differences[i], 3))\n",
    "                        f.write(str(round(RR_differences[i], 3)) + \"\\n\")\n",
    "                    \n",
    "                "
   ]
  },
  {
   "cell_type": "code",
   "execution_count": null,
   "id": "f9d346b5",
   "metadata": {},
   "outputs": [],
   "source": []
  }
 ],
 "metadata": {
  "kernelspec": {
   "display_name": "Python 3 (ipykernel)",
   "language": "python",
   "name": "python3"
  },
  "language_info": {
   "codemirror_mode": {
    "name": "ipython",
    "version": 3
   },
   "file_extension": ".py",
   "mimetype": "text/x-python",
   "name": "python",
   "nbconvert_exporter": "python",
   "pygments_lexer": "ipython3",
   "version": "3.10.9"
  }
 },
 "nbformat": 4,
 "nbformat_minor": 5
}
