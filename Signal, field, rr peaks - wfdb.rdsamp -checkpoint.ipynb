{
 "cells": [
  {
   "cell_type": "code",
   "execution_count": 1,
   "id": "f2ce90ae",
   "metadata": {},
   "outputs": [],
   "source": [
    "#--import libraries--#\n",
    "from ecgdetectors import Detectors\n",
    "from IPython.display import display\n",
    "import matplotlib.pyplot as plt\n",
    "from scipy.interpolate import interp1d\n",
    "from statistics import median\n",
    "import scipy.stats\n",
    "import pyhrv.time_domain as td\n",
    "import numpy as np\n",
    "import pandas as pd \n",
    "import os\n",
    "import shutil\n",
    "import wfdb\n",
    "import csv"
   ]
  },
  {
   "cell_type": "code",
   "execution_count": 2,
   "id": "4b4a76ef",
   "metadata": {},
   "outputs": [],
   "source": [
    "#--variables--#\n",
    "tags = []\n",
    "signal = []\n",
    "field = []\n",
    "countlines = 0"
   ]
  },
  {
   "cell_type": "code",
   "execution_count": 8,
   "id": "10c34bea",
   "metadata": {},
   "outputs": [],
   "source": [
    "#--read files with rdann--#\n",
    "'''filepath = \"C:/Users/eleft/OneDrive/Desktop/HOMore II/cu-ventricular-tachyarrhythmia-database-1.0.0/RECORDS.txt\"\n",
    "with open(filepath) as fp:\n",
    "        for line in fp:\n",
    "                countlines += 1\n",
    "                filename=\"cu-ventricular-tachyarrhythmia-database-1.0.0/\"+ line.rstrip()\n",
    "                #print(filename)\n",
    "                #tags.append(line.rstrip())\n",
    "                \n",
    "                annotation = wfdb.rdann(line.rstrip() , 'atr')\n",
    "                '''\n",
    "                #signal, field = wfdb.rdann(filename , 'atr')"
   ]
  },
  {
   "cell_type": "code",
   "execution_count": 8,
   "id": "8bf916c2",
   "metadata": {},
   "outputs": [],
   "source": [
    "#--read files with rdsamp--#\n",
    "filepath = \"C:/Users/eleft/OneDrive/Desktop/HOMore II/cu-ventricular-tachyarrhythmia-database-1.0.0/RECORDS.txt\"\n",
    "with open(filepath) as fp:\n",
    "        for line in fp:\n",
    "            countlines += 1\n",
    "            filename=\"cu-ventricular-tachyarrhythmia-database-1.0.0/\"+ line.rstrip()\n",
    "            #print(line.strip())\n",
    "            #tags.append(line.rstrip())    \n",
    "            signal, field=wfdb.rdsamp(line.rstrip(), sampfrom=0, sampto=None, channels=None, channel_names=None, warn_empty=False)"
   ]
  },
  {
   "cell_type": "code",
   "execution_count": 9,
   "id": "912f3a72",
   "metadata": {
    "scrolled": true
   },
   "outputs": [
    {
     "data": {
      "text/plain": [
       "[<matplotlib.lines.Line2D at 0x1f6351e2670>]"
      ]
     },
     "execution_count": 9,
     "metadata": {},
     "output_type": "execute_result"
    },
    {
     "data": {
      "image/png": "[encoded data removed]",
      "text/plain": [
       "<Figure size 432x288 with 1 Axes>"
      ]
     },
     "metadata": {
      "needs_background": "light"
     },
     "output_type": "display_data"
    }
   ],
   "source": [
    "#--plot the signal --> ECG--#\n",
    "plt.plot(signal[:500])"
   ]
  },
  {
   "cell_type": "code",
   "execution_count": 10,
   "id": "ce8afeac",
   "metadata": {},
   "outputs": [],
   "source": [
    "signal_int = []\n",
    "for i in range(0, len(signal)):\n",
    "    signal_int.append(signal[i][0])"
   ]
  },
  {
   "cell_type": "code",
   "execution_count": null,
   "id": "bafc2872",
   "metadata": {},
   "outputs": [],
   "source": [
    "#signal_int"
   ]
  },
  {
   "cell_type": "code",
   "execution_count": 11,
   "id": "a437bbad",
   "metadata": {},
   "outputs": [],
   "source": [
    "fs = 250\n",
    "detectors = Detectors(fs)"
   ]
  },
  {
   "cell_type": "code",
   "execution_count": 12,
   "id": "5216ae3f",
   "metadata": {},
   "outputs": [
    {
     "data": {
      "text/plain": [
       "list"
      ]
     },
     "execution_count": 12,
     "metadata": {},
     "output_type": "execute_result"
    }
   ],
   "source": [
    "type(signal_int)"
   ]
  },
  {
   "cell_type": "code",
   "execution_count": 13,
   "id": "5834f6fb",
   "metadata": {},
   "outputs": [],
   "source": [
    "df = pd.DataFrame (signal_int, columns = ['ECG values'])\n",
    "#print (df)"
   ]
  },
  {
   "cell_type": "code",
   "execution_count": 14,
   "id": "ab089140",
   "metadata": {},
   "outputs": [
    {
     "data": {
      "text/plain": [
       "{'fs': 250,\n",
       " 'sig_len': 127232,\n",
       " 'n_sig': 1,\n",
       " 'base_date': None,\n",
       " 'base_time': None,\n",
       " 'units': ['mV'],\n",
       " 'sig_name': ['ECG'],\n",
       " 'comments': []}"
      ]
     },
     "execution_count": 14,
     "metadata": {},
     "output_type": "execute_result"
    }
   ],
   "source": [
    "#--signal characteristics--#\n",
    "field"
   ]
  },
  {
   "cell_type": "code",
   "execution_count": 15,
   "id": "fbf7fae6",
   "metadata": {},
   "outputs": [
    {
     "data": {
      "text/plain": [
       "array([ 76, 157, 291])"
      ]
     },
     "execution_count": 15,
     "metadata": {},
     "output_type": "execute_result"
    }
   ],
   "source": [
    "r_peaks_pan = detectors.pan_tompkins_detector(signal_int[:500])\n",
    "r_peaks_pan= np.asarray(r_peaks_pan)\n",
    "r_peaks_pan"
   ]
  },
  {
   "cell_type": "code",
   "execution_count": 16,
   "id": "ff840ebb",
   "metadata": {},
   "outputs": [
    {
     "data": {
      "text/plain": [
       "<function matplotlib.pyplot.show(close=None, block=None)>"
      ]
     },
     "execution_count": 16,
     "metadata": {},
     "output_type": "execute_result"
    },
    {
     "data": {
      "image/png": "[encoded data removed]",
      "text/plain": [
       "<Figure size 432x288 with 1 Axes>"
      ]
     },
     "metadata": {
      "needs_background": "light"
     },
     "output_type": "display_data"
    }
   ],
   "source": [
    "plt.plot(signal_int[:500])\n",
    "plt.plot(r_peaks_pan,df.iloc[:, 0][:500][r_peaks_pan], 'ro')\n",
    "plt.show"
   ]
  },
  {
   "cell_type": "code",
   "execution_count": null,
   "id": "8032d943",
   "metadata": {},
   "outputs": [],
   "source": [
    "# labels\n",
    "labels = np.array(annotation.__dict__['symbol'])\n",
    "labels"
   ]
  },
  {
   "cell_type": "code",
   "execution_count": null,
   "id": "ff10854a",
   "metadata": {},
   "outputs": [],
   "source": [
    "# Samples\n",
    "sample = annotation.__dict__['sample']\n",
    "sample"
   ]
  },
  {
   "cell_type": "code",
   "execution_count": null,
   "id": "b1d5fc56",
   "metadata": {},
   "outputs": [],
   "source": [
    "annotation.__dict__"
   ]
  },
  {
   "cell_type": "code",
   "execution_count": null,
   "id": "32ab2dad",
   "metadata": {},
   "outputs": [],
   "source": [
    "help(wfdb.Annotation) "
   ]
  }
 ],
 "metadata": {
  "kernelspec": {
   "display_name": "Python 3 (ipykernel)",
   "language": "python",
   "name": "python3"
  },
  "language_info": {
   "codemirror_mode": {
    "name": "ipython",
    "version": 3
   },
   "file_extension": ".py",
   "mimetype": "text/x-python",
   "name": "python",
   "nbconvert_exporter": "python",
   "pygments_lexer": "ipython3",
   "version": "3.9.4"
  }
 },
 "nbformat": 4,
 "nbformat_minor": 5
}
